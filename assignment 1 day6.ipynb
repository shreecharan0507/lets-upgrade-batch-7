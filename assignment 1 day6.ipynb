{
 "cells": [
  {
   "cell_type": "code",
   "execution_count": 10,
   "metadata": {},
   "outputs": [
    {
     "name": "stdout",
     "output_type": "stream",
     "text": [
      "8.378666666666666\n",
      "30.341836051905055\n"
     ]
    }
   ],
   "source": [
    "import math\n",
    "class cone():\n",
    "    def __init__(self, r, h,):\n",
    "        self.radius = r\n",
    "        self.height = h\n",
    "        \n",
    "        \n",
    "\n",
    "    def cone_volume(self):\n",
    "        return 3.142 * self.radius * self.radius *(self.height/3)\n",
    "    def cone_surfacearea(self):\n",
    "        return  3.142 * self.radius * (self.radius + math.sqrt((self.radius * self.radius) + (self.height * self.height)))\n",
    "        \n",
    "    \n",
    "\n",
    "newcone = cone(2,2)\n",
    "print(newcone.cone_volume())\n",
    "print(newcone.cone_surfacearea())                                                                                                             \n",
    "                                                                                                             \n"
   ]
  },
  {
   "cell_type": "code",
   "execution_count": null,
   "metadata": {},
   "outputs": [],
   "source": []
  }
 ],
 "metadata": {
  "kernelspec": {
   "display_name": "Python 3",
   "language": "python",
   "name": "python3"
  },
  "language_info": {
   "codemirror_mode": {
    "name": "ipython",
    "version": 3
   },
   "file_extension": ".py",
   "mimetype": "text/x-python",
   "name": "python",
   "nbconvert_exporter": "python",
   "pygments_lexer": "ipython3",
   "version": "3.8.3"
  }
 },
 "nbformat": 4,
 "nbformat_minor": 4
}
